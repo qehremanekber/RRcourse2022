{
 "cells": [
  {
   "cell_type": "code",
   "execution_count": 16,
   "id": "74683ea0",
   "metadata": {},
   "outputs": [],
   "source": [
    "import pandas as pd\n",
    "import numpy as np"
   ]
  },
  {
   "cell_type": "code",
   "execution_count": 17,
   "id": "8482ca68",
   "metadata": {},
   "outputs": [],
   "source": [
    "data = pd.read_csv(\"C:/Users/ga428141/Desktop/pythjom/data.csv\")"
   ]
  },
  {
   "cell_type": "code",
   "execution_count": 18,
   "id": "64402be4",
   "metadata": {},
   "outputs": [
    {
     "data": {
      "text/plain": [
       "'                    NAME\\n0          United States\\n1       Northeast Region\\n2         Midwest Region\\n3           South Region\\n4            West Region\\n5                Alabama\\n6                 Alaska\\n7                Arizona\\n8               Arkansas\\n9             California\\n10              Colorado\\n11           Connecticut\\n12              Delaware\\n13  District of Columbia\\n14               Florida\\n15               Georgia\\n16                Hawaii\\n17                 Idaho\\n18              Illinois\\n19               Indiana\\n20                  Iowa\\n21                Kansas\\n22              Kentucky\\n23             Louisiana\\n24                 Maine\\n25              Maryland\\n26         Massachusetts\\n27              Michigan\\n28             Minnesota\\n29           Mississippi\\n30              Missouri\\n31               Montana\\n32              Nebraska\\n33                Nevada\\n34         New Hampshire\\n35            New Jersey\\n36            New Mexico\\n37              New York\\n38        North Carolina\\n39          North Dakota\\n40                  Ohio\\n41              Oklahoma\\n42                Oregon\\n43          Pennsylvania\\n44          Rhode Island\\n45        South Carolina\\n46          South Dakota\\n47             Tennessee\\n48                 Texas\\n49                  Utah\\n50               Vermont\\n51              Virginia\\n52            Washington\\n53         West Virginia\\n54             Wisconsin\\n55               Wyoming\\n56           Puerto Rico'"
      ]
     },
     "execution_count": 18,
     "metadata": {},
     "output_type": "execute_result"
    }
   ],
   "source": [
    "str(data)"
   ]
  },
  {
   "cell_type": "code",
   "execution_count": 23,
   "id": "180f1763",
   "metadata": {},
   "outputs": [],
   "source": [
    "data2 = data[\"NAME\"].str.upper()"
   ]
  },
  {
   "cell_type": "code",
   "execution_count": 24,
   "id": "aebb4230",
   "metadata": {},
   "outputs": [],
   "source": [
    "data3 = data[\"NAME\"].str.lower()"
   ]
  },
  {
   "cell_type": "code",
   "execution_count": 26,
   "id": "c300449e",
   "metadata": {},
   "outputs": [],
   "source": [
    "data2.to_csv(\"C:/Users/ga428141/Desktop/pythjom/data2.csv\")\n",
    "data3.to_csv(\"C:/Users/ga428141/Desktop/pythjom/data3.csv\")"
   ]
  },
  {
   "cell_type": "code",
   "execution_count": null,
   "id": "29d46524",
   "metadata": {},
   "outputs": [],
   "source": []
  }
 ],
 "metadata": {
  "kernelspec": {
   "display_name": "Python 3 (ipykernel)",
   "language": "python",
   "name": "python3"
  },
  "language_info": {
   "codemirror_mode": {
    "name": "ipython",
    "version": 3
   },
   "file_extension": ".py",
   "mimetype": "text/x-python",
   "name": "python",
   "nbconvert_exporter": "python",
   "pygments_lexer": "ipython3",
   "version": "3.9.7"
  }
 },
 "nbformat": 4,
 "nbformat_minor": 5
}
